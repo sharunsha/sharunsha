{
  "nbformat": 4,
  "nbformat_minor": 0,
  "metadata": {
    "colab": {
      "provenance": [],
      "authorship_tag": "ABX9TyO/QZO7OygW0xscv8rz16xN",
      "include_colab_link": true
    },
    "kernelspec": {
      "name": "python3",
      "display_name": "Python 3"
    },
    "language_info": {
      "name": "python"
    }
  },
  "cells": [
    {
      "cell_type": "markdown",
      "metadata": {
        "id": "view-in-github",
        "colab_type": "text"
      },
      "source": [
        "<a href=\"https://colab.research.google.com/github/sharunsha/sharunsha/blob/main/Option%20Chain%20Calculator.ipynb\" target=\"_parent\"><img src=\"https://colab.research.google.com/assets/colab-badge.svg\" alt=\"Open In Colab\"/></a>"
      ]
    },
    {
      "cell_type": "code",
      "source": [
        "import pandas as pd\n",
        "import requests  # Used for API calls\n"
      ],
      "metadata": {
        "id": "wQBl3aT3EqpU"
      },
      "execution_count": 8,
      "outputs": []
    },
    {
      "cell_type": "code",
      "source": [
        "def get_option_chain_data(instrument_name: str, expiry_date: str, side: str) -> pd.DataFrame:\n",
        "    # Define API endpoint and headers (example structure; replace with actual details)\n",
        "    api_url = \"https://api.broker.com/options_chain\"  # Replace with the actual broker's API URL\n",
        "    headers = {\n",
        "        \"Authorization\": \"Bearer YOUR_API_KEY\",  # Replace with your actual API key\n",
        "    }\n",
        "    params = {\n",
        "        \"symbol\": instrument_name,\n",
        "        \"expiry_date\": expiry_date,\n",
        "    }\n",
        "\n",
        "    # Fetch data from the API\n",
        "    response = requests.get(api_url, headers=headers, params=params)\n",
        "    data = response.json()  # Assuming the API returns JSON\n",
        "\n",
        "    # Check if data retrieval was successful\n",
        "    if response.status_code != 200:\n",
        "        print(\"Failed to fetch data\")\n",
        "        return pd.DataFrame()  # Return an empty DataFrame on failure\n",
        "\n",
        "    # Process data to filter and find highest bid/ask price based on the option type (PE or CE)\n",
        "    filtered_data = []\n",
        "    for option in data['options']:  # Assuming 'options' contains options data\n",
        "        if option['type'] == side:\n",
        "            highest_price = option['bid_price'] if side == \"PE\" else option['ask_price']\n",
        "            filtered_data.append({\n",
        "                \"instrument_name\": instrument_name,\n",
        "                \"strike_price\": option['strike_price'],\n",
        "                \"side\": side,\n",
        "                \"bid/ask\": highest_price\n",
        "            })\n",
        "\n",
        "    # Convert the filtered data to a DataFrame\n",
        "    df = pd.DataFrame(filtered_data)\n",
        "    return df\n"
      ],
      "metadata": {
        "id": "Tq3v_wgSEr7s"
      },
      "execution_count": 9,
      "outputs": []
    },
    {
      "cell_type": "code",
      "source": [
        "# Mock function to simulate API data for testing\n",
        "def mock_get_option_chain_data(instrument_name: str, expiry_date: str, side: str) -> pd.DataFrame:\n",
        "    # Simulated API data structure\n",
        "    mock_data = {\n",
        "        \"options\": [\n",
        "            {\"strike_price\": 19500, \"type\": \"CE\", \"ask_price\": 2302.25, \"bid_price\": 0.65},\n",
        "            {\"strike_price\": 19500, \"type\": \"PE\", \"ask_price\": 0.55, \"bid_price\": 0.75},\n",
        "            {\"strike_price\": 19600, \"type\": \"CE\", \"ask_price\": 2200.50, \"bid_price\": 1.05},\n",
        "            {\"strike_price\": 19600, \"type\": \"PE\", \"ask_price\": 1.00, \"bid_price\": 1.25},\n",
        "        ]\n",
        "    }\n",
        "\n",
        "    # Filter data as per the real function's logic\n",
        "    filtered_data = []\n",
        "    for option in mock_data['options']:\n",
        "        if option['type'] == side:\n",
        "            highest_price = option['bid_price'] if side == \"PE\" else option['ask_price']\n",
        "            filtered_data.append({\n",
        "                \"instrument_name\": instrument_name,\n",
        "                \"strike_price\": option['strike_price'],\n",
        "                \"side\": side,\n",
        "                \"bid/ask\": highest_price\n",
        "            })\n",
        "\n",
        "    # Convert to DataFrame\n",
        "    df = pd.DataFrame(filtered_data)\n",
        "    return df\n",
        "\n",
        "# Test the mock function\n",
        "test_df = mock_get_option_chain_data(\"NIFTY\", \"2024-12-31\", \"CE\")\n",
        "print(test_df)\n"
      ],
      "metadata": {
        "colab": {
          "base_uri": "https://localhost:8080/"
        },
        "id": "T0M4PbnqEw1Y",
        "outputId": "998c43ce-d416-4de1-8a9a-2ebcd6cc3365"
      },
      "execution_count": 10,
      "outputs": [
        {
          "output_type": "stream",
          "name": "stdout",
          "text": [
            "  instrument_name  strike_price side  bid/ask\n",
            "0           NIFTY         19500   CE  2302.25\n",
            "1           NIFTY         19600   CE  2200.50\n"
          ]
        }
      ]
    },
    {
      "cell_type": "code",
      "source": [
        "def calculate_margin_and_premium(data: pd.DataFrame, lot_size: int = 75) -> pd.DataFrame:\n",
        "    # API endpoint for margin calculation (replace with actual URL)\n",
        "    margin_api_url = \"https://api.broker.com/calculate_margin\"\n",
        "\n",
        "    # Add new columns to store margin and premium values\n",
        "    data[\"margin_required\"] = 0.0\n",
        "    data[\"premium_earned\"] = 0.0\n",
        "\n",
        "    for index, row in data.iterrows():\n",
        "        # Example margin API request (replace with actual API call details)\n",
        "        margin_params = {\n",
        "            \"symbol\": row[\"instrument_name\"],\n",
        "            \"strike_price\": row[\"strike_price\"],\n",
        "            \"side\": row[\"side\"],\n",
        "            \"transaction_type\": \"SELL\"\n",
        "        }\n",
        "\n",
        "        # Assume margin calculation API returns margin requirement directly\n",
        "        response = requests.get(margin_api_url, params=margin_params)\n",
        "        if response.status_code == 200:\n",
        "            margin_data = response.json()\n",
        "            data.at[index, \"margin_required\"] = margin_data.get(\"margin_required\", 0.0)\n",
        "        else:\n",
        "            print(f\"Failed to retrieve margin for {row['instrument_name']} {row['strike_price']} {row['side']}\")\n",
        "\n",
        "        # Calculate premium earned (bid/ask price * lot size)\n",
        "        data.at[index, \"premium_earned\"] = row[\"bid/ask\"] * lot_size\n",
        "\n",
        "    return data\n"
      ],
      "metadata": {
        "id": "d1RKbJJ3E0lu"
      },
      "execution_count": 11,
      "outputs": []
    },
    {
      "cell_type": "code",
      "source": [
        "def calculate_margin_and_premium(data: pd.DataFrame, lot_size: int = 75) -> pd.DataFrame:\n",
        "    # Remove API call for testing - Use mock margin data instead\n",
        "\n",
        "    # Add new columns to store margin and premium values\n",
        "    data[\"margin_required\"] = 0.0\n",
        "    data[\"premium_earned\"] = 0.0\n",
        "\n",
        "    for index, row in data.iterrows():\n",
        "        # Mock margin requirement for testing purposes\n",
        "        data.at[index, \"margin_required\"] = 2000.0  # Replace with actual margin logic when available\n",
        "\n",
        "        # Calculate premium earned (bid/ask price * lot size)\n",
        "        data.at[index, \"premium_earned\"] = row[\"bid/ask\"] * lot_size\n",
        "\n",
        "    return data\n"
      ],
      "metadata": {
        "id": "Nj41tATeFFgA"
      },
      "execution_count": 12,
      "outputs": []
    },
    {
      "cell_type": "code",
      "source": [
        "import pandas as pd\n",
        "\n",
        "# Function to get option chain data (using mock data for testing)\n",
        "def get_option_chain_data(instrument_name: str, expiry_date: str, side: str) -> pd.DataFrame:\n",
        "    # Mock data for option chain\n",
        "    data = {\n",
        "        \"instrument_name\": [instrument_name, instrument_name],\n",
        "        \"strike_price\": [19500, 19500],\n",
        "        \"side\": [\"PE\", \"CE\"],\n",
        "        \"bid/ask\": [0.65, 2302.25]  # Mock bid price for PE and ask price for CE\n",
        "    }\n",
        "    return pd.DataFrame(data)\n",
        "\n",
        "# Function to calculate margin and premium (mock margin data for testing)\n",
        "def calculate_margin_and_premium(data: pd.DataFrame, lot_size: int = 75) -> pd.DataFrame:\n",
        "    # Add columns for margin and premium values\n",
        "    data[\"margin_required\"] = 0.0\n",
        "    data[\"premium_earned\"] = 0.0\n",
        "\n",
        "    for index, row in data.iterrows():\n",
        "        # Using mock margin value for testing\n",
        "        data.at[index, \"margin_required\"] = 2000.0  # Replace with API call if available\n",
        "\n",
        "        # Calculate premium earned\n",
        "        data.at[index, \"premium_earned\"] = row[\"bid/ask\"] * lot_size\n",
        "\n",
        "    return data\n",
        "\n",
        "# Step-by-step process to test the functions\n",
        "\n",
        "# 1. Fetch option chain data\n",
        "options_data = get_option_chain_data(\"NIFTY\", \"2024-12-28\", \"PE\")\n",
        "print(\"Option Chain Data:\")\n",
        "print(options_data)\n",
        "\n",
        "# 2. Calculate margin and premium\n",
        "result_data = calculate_margin_and_premium(options_data)\n",
        "print(\"\\nFinal Data with Margin and Premium Calculated:\")\n",
        "print(result_data)\n"
      ],
      "metadata": {
        "colab": {
          "base_uri": "https://localhost:8080/"
        },
        "id": "0BcQy44xE4Qa",
        "outputId": "bc2bf5b2-d378-4acb-9d63-e0ebf14630be"
      },
      "execution_count": 13,
      "outputs": [
        {
          "output_type": "stream",
          "name": "stdout",
          "text": [
            "Option Chain Data:\n",
            "  instrument_name  strike_price side  bid/ask\n",
            "0           NIFTY         19500   PE     0.65\n",
            "1           NIFTY         19500   CE  2302.25\n",
            "\n",
            "Final Data with Margin and Premium Calculated:\n",
            "  instrument_name  strike_price side  bid/ask  margin_required  premium_earned\n",
            "0           NIFTY         19500   PE     0.65           2000.0           48.75\n",
            "1           NIFTY         19500   CE  2302.25           2000.0       172668.75\n"
          ]
        }
      ]
    }
  ]
}